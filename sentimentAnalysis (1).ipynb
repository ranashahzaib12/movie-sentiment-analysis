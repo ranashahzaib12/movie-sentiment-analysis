{
  "cells": [
    {
      "cell_type": "code",
      "execution_count": 1,
      "metadata": {
        "id": "YMmSY94FPmfm"
      },
      "outputs": [],
      "source": [
        "import pandas as pd\n",
        "import numpy as np"
      ]
    },
    {
      "cell_type": "code",
      "execution_count": 2,
      "metadata": {
        "id": "3j9lJHZyPmfo"
      },
      "outputs": [],
      "source": [
        "df = pd.read_csv('test.csv')"
      ]
    },
    {
      "cell_type": "code",
      "execution_count": 3,
      "metadata": {
        "colab": {
          "base_uri": "https://localhost:8080/",
          "height": 206
        },
        "id": "3Vs-l7-NPmfp",
        "outputId": "adc52e57-3d10-4122-b30b-e3689e107110"
      },
      "outputs": [
        {
          "output_type": "execute_result",
          "data": {
            "text/plain": [
              "                                                text sentiment\n",
              "0  My daughter liked it but I was aghast, that a ...       neg\n",
              "1  I... No words. No words can describe this. I w...       neg\n",
              "2  this film is basically a poor take on the old ...       neg\n",
              "3  This is a terrible movie, and I'm not even sur...       neg\n",
              "4  First of all this movie is a piece of reality ...       pos"
            ],
            "text/html": [
              "\n",
              "  <div id=\"df-54c5eb22-f053-4f2f-88f0-47946326db07\" class=\"colab-df-container\">\n",
              "    <div>\n",
              "<style scoped>\n",
              "    .dataframe tbody tr th:only-of-type {\n",
              "        vertical-align: middle;\n",
              "    }\n",
              "\n",
              "    .dataframe tbody tr th {\n",
              "        vertical-align: top;\n",
              "    }\n",
              "\n",
              "    .dataframe thead th {\n",
              "        text-align: right;\n",
              "    }\n",
              "</style>\n",
              "<table border=\"1\" class=\"dataframe\">\n",
              "  <thead>\n",
              "    <tr style=\"text-align: right;\">\n",
              "      <th></th>\n",
              "      <th>text</th>\n",
              "      <th>sentiment</th>\n",
              "    </tr>\n",
              "  </thead>\n",
              "  <tbody>\n",
              "    <tr>\n",
              "      <th>0</th>\n",
              "      <td>My daughter liked it but I was aghast, that a ...</td>\n",
              "      <td>neg</td>\n",
              "    </tr>\n",
              "    <tr>\n",
              "      <th>1</th>\n",
              "      <td>I... No words. No words can describe this. I w...</td>\n",
              "      <td>neg</td>\n",
              "    </tr>\n",
              "    <tr>\n",
              "      <th>2</th>\n",
              "      <td>this film is basically a poor take on the old ...</td>\n",
              "      <td>neg</td>\n",
              "    </tr>\n",
              "    <tr>\n",
              "      <th>3</th>\n",
              "      <td>This is a terrible movie, and I'm not even sur...</td>\n",
              "      <td>neg</td>\n",
              "    </tr>\n",
              "    <tr>\n",
              "      <th>4</th>\n",
              "      <td>First of all this movie is a piece of reality ...</td>\n",
              "      <td>pos</td>\n",
              "    </tr>\n",
              "  </tbody>\n",
              "</table>\n",
              "</div>\n",
              "    <div class=\"colab-df-buttons\">\n",
              "\n",
              "  <div class=\"colab-df-container\">\n",
              "    <button class=\"colab-df-convert\" onclick=\"convertToInteractive('df-54c5eb22-f053-4f2f-88f0-47946326db07')\"\n",
              "            title=\"Convert this dataframe to an interactive table.\"\n",
              "            style=\"display:none;\">\n",
              "\n",
              "  <svg xmlns=\"http://www.w3.org/2000/svg\" height=\"24px\" viewBox=\"0 -960 960 960\">\n",
              "    <path d=\"M120-120v-720h720v720H120Zm60-500h600v-160H180v160Zm220 220h160v-160H400v160Zm0 220h160v-160H400v160ZM180-400h160v-160H180v160Zm440 0h160v-160H620v160ZM180-180h160v-160H180v160Zm440 0h160v-160H620v160Z\"/>\n",
              "  </svg>\n",
              "    </button>\n",
              "\n",
              "  <style>\n",
              "    .colab-df-container {\n",
              "      display:flex;\n",
              "      gap: 12px;\n",
              "    }\n",
              "\n",
              "    .colab-df-convert {\n",
              "      background-color: #E8F0FE;\n",
              "      border: none;\n",
              "      border-radius: 50%;\n",
              "      cursor: pointer;\n",
              "      display: none;\n",
              "      fill: #1967D2;\n",
              "      height: 32px;\n",
              "      padding: 0 0 0 0;\n",
              "      width: 32px;\n",
              "    }\n",
              "\n",
              "    .colab-df-convert:hover {\n",
              "      background-color: #E2EBFA;\n",
              "      box-shadow: 0px 1px 2px rgba(60, 64, 67, 0.3), 0px 1px 3px 1px rgba(60, 64, 67, 0.15);\n",
              "      fill: #174EA6;\n",
              "    }\n",
              "\n",
              "    .colab-df-buttons div {\n",
              "      margin-bottom: 4px;\n",
              "    }\n",
              "\n",
              "    [theme=dark] .colab-df-convert {\n",
              "      background-color: #3B4455;\n",
              "      fill: #D2E3FC;\n",
              "    }\n",
              "\n",
              "    [theme=dark] .colab-df-convert:hover {\n",
              "      background-color: #434B5C;\n",
              "      box-shadow: 0px 1px 3px 1px rgba(0, 0, 0, 0.15);\n",
              "      filter: drop-shadow(0px 1px 2px rgba(0, 0, 0, 0.3));\n",
              "      fill: #FFFFFF;\n",
              "    }\n",
              "  </style>\n",
              "\n",
              "    <script>\n",
              "      const buttonEl =\n",
              "        document.querySelector('#df-54c5eb22-f053-4f2f-88f0-47946326db07 button.colab-df-convert');\n",
              "      buttonEl.style.display =\n",
              "        google.colab.kernel.accessAllowed ? 'block' : 'none';\n",
              "\n",
              "      async function convertToInteractive(key) {\n",
              "        const element = document.querySelector('#df-54c5eb22-f053-4f2f-88f0-47946326db07');\n",
              "        const dataTable =\n",
              "          await google.colab.kernel.invokeFunction('convertToInteractive',\n",
              "                                                    [key], {});\n",
              "        if (!dataTable) return;\n",
              "\n",
              "        const docLinkHtml = 'Like what you see? Visit the ' +\n",
              "          '<a target=\"_blank\" href=https://colab.research.google.com/notebooks/data_table.ipynb>data table notebook</a>'\n",
              "          + ' to learn more about interactive tables.';\n",
              "        element.innerHTML = '';\n",
              "        dataTable['output_type'] = 'display_data';\n",
              "        await google.colab.output.renderOutput(dataTable, element);\n",
              "        const docLink = document.createElement('div');\n",
              "        docLink.innerHTML = docLinkHtml;\n",
              "        element.appendChild(docLink);\n",
              "      }\n",
              "    </script>\n",
              "  </div>\n",
              "\n",
              "\n",
              "    <div id=\"df-8cdf350b-e0fa-405f-9d66-17fbb64451eb\">\n",
              "      <button class=\"colab-df-quickchart\" onclick=\"quickchart('df-8cdf350b-e0fa-405f-9d66-17fbb64451eb')\"\n",
              "                title=\"Suggest charts\"\n",
              "                style=\"display:none;\">\n",
              "\n",
              "<svg xmlns=\"http://www.w3.org/2000/svg\" height=\"24px\"viewBox=\"0 0 24 24\"\n",
              "     width=\"24px\">\n",
              "    <g>\n",
              "        <path d=\"M19 3H5c-1.1 0-2 .9-2 2v14c0 1.1.9 2 2 2h14c1.1 0 2-.9 2-2V5c0-1.1-.9-2-2-2zM9 17H7v-7h2v7zm4 0h-2V7h2v10zm4 0h-2v-4h2v4z\"/>\n",
              "    </g>\n",
              "</svg>\n",
              "      </button>\n",
              "\n",
              "<style>\n",
              "  .colab-df-quickchart {\n",
              "      --bg-color: #E8F0FE;\n",
              "      --fill-color: #1967D2;\n",
              "      --hover-bg-color: #E2EBFA;\n",
              "      --hover-fill-color: #174EA6;\n",
              "      --disabled-fill-color: #AAA;\n",
              "      --disabled-bg-color: #DDD;\n",
              "  }\n",
              "\n",
              "  [theme=dark] .colab-df-quickchart {\n",
              "      --bg-color: #3B4455;\n",
              "      --fill-color: #D2E3FC;\n",
              "      --hover-bg-color: #434B5C;\n",
              "      --hover-fill-color: #FFFFFF;\n",
              "      --disabled-bg-color: #3B4455;\n",
              "      --disabled-fill-color: #666;\n",
              "  }\n",
              "\n",
              "  .colab-df-quickchart {\n",
              "    background-color: var(--bg-color);\n",
              "    border: none;\n",
              "    border-radius: 50%;\n",
              "    cursor: pointer;\n",
              "    display: none;\n",
              "    fill: var(--fill-color);\n",
              "    height: 32px;\n",
              "    padding: 0;\n",
              "    width: 32px;\n",
              "  }\n",
              "\n",
              "  .colab-df-quickchart:hover {\n",
              "    background-color: var(--hover-bg-color);\n",
              "    box-shadow: 0 1px 2px rgba(60, 64, 67, 0.3), 0 1px 3px 1px rgba(60, 64, 67, 0.15);\n",
              "    fill: var(--button-hover-fill-color);\n",
              "  }\n",
              "\n",
              "  .colab-df-quickchart-complete:disabled,\n",
              "  .colab-df-quickchart-complete:disabled:hover {\n",
              "    background-color: var(--disabled-bg-color);\n",
              "    fill: var(--disabled-fill-color);\n",
              "    box-shadow: none;\n",
              "  }\n",
              "\n",
              "  .colab-df-spinner {\n",
              "    border: 2px solid var(--fill-color);\n",
              "    border-color: transparent;\n",
              "    border-bottom-color: var(--fill-color);\n",
              "    animation:\n",
              "      spin 1s steps(1) infinite;\n",
              "  }\n",
              "\n",
              "  @keyframes spin {\n",
              "    0% {\n",
              "      border-color: transparent;\n",
              "      border-bottom-color: var(--fill-color);\n",
              "      border-left-color: var(--fill-color);\n",
              "    }\n",
              "    20% {\n",
              "      border-color: transparent;\n",
              "      border-left-color: var(--fill-color);\n",
              "      border-top-color: var(--fill-color);\n",
              "    }\n",
              "    30% {\n",
              "      border-color: transparent;\n",
              "      border-left-color: var(--fill-color);\n",
              "      border-top-color: var(--fill-color);\n",
              "      border-right-color: var(--fill-color);\n",
              "    }\n",
              "    40% {\n",
              "      border-color: transparent;\n",
              "      border-right-color: var(--fill-color);\n",
              "      border-top-color: var(--fill-color);\n",
              "    }\n",
              "    60% {\n",
              "      border-color: transparent;\n",
              "      border-right-color: var(--fill-color);\n",
              "    }\n",
              "    80% {\n",
              "      border-color: transparent;\n",
              "      border-right-color: var(--fill-color);\n",
              "      border-bottom-color: var(--fill-color);\n",
              "    }\n",
              "    90% {\n",
              "      border-color: transparent;\n",
              "      border-bottom-color: var(--fill-color);\n",
              "    }\n",
              "  }\n",
              "</style>\n",
              "\n",
              "      <script>\n",
              "        async function quickchart(key) {\n",
              "          const quickchartButtonEl =\n",
              "            document.querySelector('#' + key + ' button');\n",
              "          quickchartButtonEl.disabled = true;  // To prevent multiple clicks.\n",
              "          quickchartButtonEl.classList.add('colab-df-spinner');\n",
              "          try {\n",
              "            const charts = await google.colab.kernel.invokeFunction(\n",
              "                'suggestCharts', [key], {});\n",
              "          } catch (error) {\n",
              "            console.error('Error during call to suggestCharts:', error);\n",
              "          }\n",
              "          quickchartButtonEl.classList.remove('colab-df-spinner');\n",
              "          quickchartButtonEl.classList.add('colab-df-quickchart-complete');\n",
              "        }\n",
              "        (() => {\n",
              "          let quickchartButtonEl =\n",
              "            document.querySelector('#df-8cdf350b-e0fa-405f-9d66-17fbb64451eb button');\n",
              "          quickchartButtonEl.style.display =\n",
              "            google.colab.kernel.accessAllowed ? 'block' : 'none';\n",
              "        })();\n",
              "      </script>\n",
              "    </div>\n",
              "\n",
              "    </div>\n",
              "  </div>\n"
            ],
            "application/vnd.google.colaboratory.intrinsic+json": {
              "type": "dataframe",
              "variable_name": "df",
              "summary": "{\n  \"name\": \"df\",\n  \"rows\": 25000,\n  \"fields\": [\n    {\n      \"column\": \"text\",\n      \"properties\": {\n        \"dtype\": \"string\",\n        \"num_unique_values\": 24801,\n        \"samples\": [\n          \"Think of an extremely low-rent version of \\\"Heathers,\\\" and you've got \\\"Pep Squad.\\\" That sums up the flick in a nutshell. I must give credit where credit's due, though. The film has a nice visual appeal to it. I liked the cinematography, I liked the wild color schemes, I liked the costume designs. But without good acting, a film has no redeeming value. I'd rather watch a film with little visual appeal, with good actors and sharp dialogue (i.e.: \\\"The Brothers McMullen\\\" or any Edward Burns film). The actors either recite their dialogue in monotones or scream it out like they're in a bad soap opera. This is why I don't badmouth most mainstream actors. Let's face it, most actors who are mainstream are mainstream for a reason. If they're not \\\"great\\\" actors, they're at least competent. People badmouth Leo DiCaprio, but when was the last time you saw a movie where he recites the dialogue as if he's reading it off the page? It's a shame, because the director seems like he knows his stuff when it comes to mis en scene (sp). At the same time I can't totally praise Steve Balderson (the director). He did write the screenplay, which contains some horrible dialogue. He might be slightly racist too, since there's a black principal in the movie, who inhabits a culmination of African-American stereotypes.\",\n          \"Soul Calibur has always been my favorite fighting game series of all time. And SCIII is my favorite one of the series.<br /><br />The graphics are very well done. Much bigger improvement over the choppy polygons in Soul Edge/Soul Blade. The characters have facial expressions, hair blows in the breeze and they even blink.<br /><br />Soul Calibur has always been known for it's interesting plots and characters and SCIII is no exception. Each character has his/her background story that is detailed and well done. My favorite character is Chai Xianghua. She's cute, she's funny and she's a strong female character. Yeah, I know she wears pink and has a boyfriend (who she ends up saving BTW), but there seems to be more to her than that. Xianghua, like all the other characters, have flaws and upsides to their personalities, so no character is perfect, not even the good guys.<br /><br />The music is beautifully composed for a fighting game series. It doesn't sound kitchy (the Vampire series) nor does it sound like old school porn film soundtrack (Mortal Kombat). The characters have their own themes and a lot of the themes are done to match the culture of that certain part of the world. I don't think there is a song on this soundtrack I don't like.<br /><br />Another cool thing about this game is to create your own anime-like character (Create a Soul). You could make him/her look as cute or as sexy or even ugly if you like. However, if you found a character customization that you like, remember to take notes, or else you won't remember how you created that character. I found myself being very addicted to CaS.<br /><br />Overall, I think Soul Calibur is my number one fighting game series of all time. It has everything I asked for. What more could I want?\",\n          \"Frankly, after Cotton club and Unfaithful, it was kind of embarrassing to watch Lane and Gere in this film, because it is BAD. The acting was bad, the dialogs were extremely shallow and insincere. It was well shot, but, then again, it is a big budget movie. It was too predictable, even for a chick flick. I even knew from the beginning that he was going to die in the end, the only thing I didn't know was how. Too politically correct. Very disappointing. The only thing really worth watching was the scenery and the house, because it is beautiful. But, if you want that, watch National geographic. I love Lane, but I've never seen her in a movie this lousy. As far as Gere goes, he's a good actor, but he had movies like this, so I'm not surprised. An hour and a half I wish I could bring back.\"\n        ],\n        \"semantic_type\": \"\",\n        \"description\": \"\"\n      }\n    },\n    {\n      \"column\": \"sentiment\",\n      \"properties\": {\n        \"dtype\": \"category\",\n        \"num_unique_values\": 2,\n        \"samples\": [\n          \"pos\",\n          \"neg\"\n        ],\n        \"semantic_type\": \"\",\n        \"description\": \"\"\n      }\n    }\n  ]\n}"
            }
          },
          "metadata": {},
          "execution_count": 3
        }
      ],
      "source": [
        "df.head()"
      ]
    },
    {
      "cell_type": "code",
      "execution_count": 4,
      "metadata": {
        "colab": {
          "base_uri": "https://localhost:8080/"
        },
        "id": "lDUBl2HhPmfs",
        "outputId": "e29bb1f3-5b45-43ca-dcc2-953a04bd5b29"
      },
      "outputs": [
        {
          "output_type": "stream",
          "name": "stdout",
          "text": [
            "<class 'pandas.core.frame.DataFrame'>\n",
            "RangeIndex: 25000 entries, 0 to 24999\n",
            "Data columns (total 2 columns):\n",
            " #   Column     Non-Null Count  Dtype \n",
            "---  ------     --------------  ----- \n",
            " 0   text       25000 non-null  object\n",
            " 1   sentiment  25000 non-null  object\n",
            "dtypes: object(2)\n",
            "memory usage: 390.8+ KB\n"
          ]
        }
      ],
      "source": [
        "df.info()"
      ]
    },
    {
      "cell_type": "code",
      "execution_count": 5,
      "metadata": {
        "colab": {
          "base_uri": "https://localhost:8080/"
        },
        "id": "3rNycMOtPmfu",
        "outputId": "8e0bac84-239c-433e-acff-a66c5d78df83"
      },
      "outputs": [
        {
          "output_type": "execute_result",
          "data": {
            "text/plain": [
              "(25000, 2)"
            ]
          },
          "metadata": {},
          "execution_count": 5
        }
      ],
      "source": [
        "df.shape"
      ]
    },
    {
      "cell_type": "code",
      "execution_count": 6,
      "metadata": {
        "colab": {
          "base_uri": "https://localhost:8080/",
          "height": 147
        },
        "id": "ToMrH2DePmfu",
        "outputId": "8e670c2c-40b6-40e5-9451-b44d82e6b5a2"
      },
      "outputs": [
        {
          "output_type": "execute_result",
          "data": {
            "text/plain": [
              "text         0\n",
              "sentiment    0\n",
              "dtype: int64"
            ],
            "text/html": [
              "<div>\n",
              "<style scoped>\n",
              "    .dataframe tbody tr th:only-of-type {\n",
              "        vertical-align: middle;\n",
              "    }\n",
              "\n",
              "    .dataframe tbody tr th {\n",
              "        vertical-align: top;\n",
              "    }\n",
              "\n",
              "    .dataframe thead th {\n",
              "        text-align: right;\n",
              "    }\n",
              "</style>\n",
              "<table border=\"1\" class=\"dataframe\">\n",
              "  <thead>\n",
              "    <tr style=\"text-align: right;\">\n",
              "      <th></th>\n",
              "      <th>0</th>\n",
              "    </tr>\n",
              "  </thead>\n",
              "  <tbody>\n",
              "    <tr>\n",
              "      <th>text</th>\n",
              "      <td>0</td>\n",
              "    </tr>\n",
              "    <tr>\n",
              "      <th>sentiment</th>\n",
              "      <td>0</td>\n",
              "    </tr>\n",
              "  </tbody>\n",
              "</table>\n",
              "</div><br><label><b>dtype:</b> int64</label>"
            ]
          },
          "metadata": {},
          "execution_count": 6
        }
      ],
      "source": [
        "df.isnull().sum()"
      ]
    },
    {
      "cell_type": "code",
      "execution_count": 7,
      "metadata": {
        "colab": {
          "base_uri": "https://localhost:8080/"
        },
        "id": "POL6NqB8Pmfv",
        "outputId": "a947a6ce-e4f9-4378-c996-84957c147479"
      },
      "outputs": [
        {
          "output_type": "execute_result",
          "data": {
            "text/plain": [
              "array(['neg', 'pos'], dtype=object)"
            ]
          },
          "metadata": {},
          "execution_count": 7
        }
      ],
      "source": [
        "df['sentiment'].unique()"
      ]
    },
    {
      "cell_type": "code",
      "execution_count": 8,
      "metadata": {
        "colab": {
          "base_uri": "https://localhost:8080/",
          "height": 178
        },
        "id": "PQMgaxTkPmfw",
        "outputId": "3189c5c4-70d1-481e-e15d-d24bf7824017"
      },
      "outputs": [
        {
          "output_type": "execute_result",
          "data": {
            "text/plain": [
              "sentiment\n",
              "neg    12500\n",
              "pos    12500\n",
              "Name: count, dtype: int64"
            ],
            "text/html": [
              "<div>\n",
              "<style scoped>\n",
              "    .dataframe tbody tr th:only-of-type {\n",
              "        vertical-align: middle;\n",
              "    }\n",
              "\n",
              "    .dataframe tbody tr th {\n",
              "        vertical-align: top;\n",
              "    }\n",
              "\n",
              "    .dataframe thead th {\n",
              "        text-align: right;\n",
              "    }\n",
              "</style>\n",
              "<table border=\"1\" class=\"dataframe\">\n",
              "  <thead>\n",
              "    <tr style=\"text-align: right;\">\n",
              "      <th></th>\n",
              "      <th>count</th>\n",
              "    </tr>\n",
              "    <tr>\n",
              "      <th>sentiment</th>\n",
              "      <th></th>\n",
              "    </tr>\n",
              "  </thead>\n",
              "  <tbody>\n",
              "    <tr>\n",
              "      <th>neg</th>\n",
              "      <td>12500</td>\n",
              "    </tr>\n",
              "    <tr>\n",
              "      <th>pos</th>\n",
              "      <td>12500</td>\n",
              "    </tr>\n",
              "  </tbody>\n",
              "</table>\n",
              "</div><br><label><b>dtype:</b> int64</label>"
            ]
          },
          "metadata": {},
          "execution_count": 8
        }
      ],
      "source": [
        "df['sentiment'].value_counts()"
      ]
    },
    {
      "cell_type": "markdown",
      "metadata": {
        "id": "Xuko94EDPmfw"
      },
      "source": [
        "### Data Preprocessing"
      ]
    },
    {
      "cell_type": "code",
      "source": [
        "# prompt: apply label encoding on sentiment colunm\n",
        "\n",
        "from sklearn.preprocessing import LabelEncoder\n",
        "import pickle\n",
        "\n",
        "le = LabelEncoder()\n",
        "df['sentiment'] = le.fit_transform(df['sentiment'])\n",
        "df['sentiment'].value_counts()\n",
        "\n",
        "\n",
        "\n",
        "with open('label_encoder.pkl', 'wb') as f:\n",
        "    pickle.dump(le, f)\n",
        "\n"
      ],
      "metadata": {
        "id": "wD_K153deHrj"
      },
      "execution_count": 9,
      "outputs": []
    },
    {
      "cell_type": "code",
      "execution_count": 10,
      "metadata": {
        "id": "ILlsGEotPmfy"
      },
      "outputs": [],
      "source": [
        "df['text'] = df['text'].str.lower()"
      ]
    },
    {
      "cell_type": "code",
      "source": [
        "# prompt: do data splitting code\n",
        "\n",
        "from sklearn.model_selection import train_test_split\n",
        "\n",
        "X = df['text']\n",
        "y = df['sentiment']\n",
        "\n",
        "X_train, X_test, y_train, y_test = train_test_split(X, y, test_size=0.2, random_state=42)\n",
        "\n"
      ],
      "metadata": {
        "id": "rlDtoLXlVmOB"
      },
      "execution_count": 11,
      "outputs": []
    },
    {
      "cell_type": "code",
      "source": [
        "\n",
        "from sklearn.preprocessing import LabelEncoder\n",
        "import re\n",
        "from bs4 import BeautifulSoup\n",
        "import nltk\n",
        "nltk.download('stopwords')\n",
        "from nltk.corpus import stopwords\n",
        "\n",
        "# Removing special characters, URLs, HTML tags, and extra spaces from both train and test sets\n",
        "def preprocess_text(text):\n",
        "    text = re.sub(r'[^a-zA-Z0-9]+', ' ', text)\n",
        "    text = re.sub(r'(http|https|ftp)://[a-zA-Z0-9./]+', '', text)\n",
        "    text = BeautifulSoup(text, 'lxml').get_text()\n",
        "    text = \" \".join(text.split())\n",
        "    return text\n",
        "\n",
        "X_train = X_train.apply(preprocess_text)\n",
        "X_test = X_test.apply(preprocess_text)\n",
        "\n",
        "# Remove stopwords from both train and test sets AFTER splitting\n",
        "stop_words = set(stopwords.words('english'))\n",
        "def remove_stopwords(text):\n",
        "    return \" \".join([word for word in str(text).split() if word not in stop_words])\n",
        "\n",
        "X_train = X_train.apply(remove_stopwords)\n",
        "X_test = X_test.apply(remove_stopwords)\n",
        "\n",
        "\n",
        "print(f\"X_train shape: {X_train.shape}\")\n",
        "print(f\"y_train shape: {y_train.shape}\")\n",
        "print(f\"X_test shape: {X_test.shape}\")\n",
        "print(f\"y_test shape: {y_test.shape}\")\n"
      ],
      "metadata": {
        "colab": {
          "base_uri": "https://localhost:8080/"
        },
        "id": "y2Frb9tsZdF5",
        "outputId": "880e71e7-29a8-48c8-dfd3-c4ae9fc0ce28"
      },
      "execution_count": 12,
      "outputs": [
        {
          "output_type": "stream",
          "name": "stderr",
          "text": [
            "[nltk_data] Downloading package stopwords to /root/nltk_data...\n",
            "[nltk_data]   Unzipping corpora/stopwords.zip.\n"
          ]
        },
        {
          "output_type": "stream",
          "name": "stdout",
          "text": [
            "X_train shape: (20000,)\n",
            "y_train shape: (20000,)\n",
            "X_test shape: (5000,)\n",
            "y_test shape: (5000,)\n"
          ]
        }
      ]
    },
    {
      "cell_type": "code",
      "source": [
        "from sklearn.feature_extraction.text import TfidfVectorizer\n",
        "\n",
        "# Initialize TF-IDF vectorizer\n",
        "tfidf_vectorizer = TfidfVectorizer(max_features=3000, stop_words='english',ngram_range=(1, 2)) # Limiting features for demonstration\n",
        "\n",
        "# Fit and transform the training data\n",
        "X_train_tfidf = tfidf_vectorizer.fit_transform(X_train)\n",
        "\n",
        "# Transform the test data (using the vocabulary learned from the training data)\n",
        "X_test_tfidf = tfidf_vectorizer.transform(X_test)\n",
        "\n",
        "print(f\"X_train_tfidf shape: {X_train_tfidf.shape}\")\n",
        "print(f\"X_test_tfidf shape: {X_test_tfidf.shape}\")\n",
        "\n",
        "\n",
        "# Save vectorizer\n",
        "with open('tfidf_vectorizer.pkl', 'wb') as f:\n",
        "    pickle.dump(tfidf_vectorizer, f)"
      ],
      "metadata": {
        "colab": {
          "base_uri": "https://localhost:8080/"
        },
        "id": "gBw6Pl1Xdl_b",
        "outputId": "68a50d11-f2bf-462d-f4ec-3b0f80a99f1f"
      },
      "execution_count": 18,
      "outputs": [
        {
          "output_type": "stream",
          "name": "stdout",
          "text": [
            "X_train_tfidf shape: (20000, 3000)\n",
            "X_test_tfidf shape: (5000, 3000)\n"
          ]
        }
      ]
    },
    {
      "cell_type": "code",
      "source": [
        "\n",
        "from sklearn.svm import SVC\n",
        "from sklearn.linear_model import LogisticRegression\n",
        "from sklearn.metrics import accuracy_score, precision_score, recall_score, f1_score, roc_auc_score\n",
        "\n",
        "models = {\n",
        "    'SVM': SVC(),\n",
        "    'Logistic Regression': LogisticRegression()\n",
        "}\n",
        "\n",
        "for model_name, model in models.items():\n",
        "    model.fit(X_train_tfidf, y_train)\n",
        "\n",
        "    y_train_pred = model.predict(X_train_tfidf)\n",
        "    y_test_pred = model.predict(X_test_tfidf)\n",
        "\n",
        "    # Training Set Performance\n",
        "    acc_score = accuracy_score(y_train, y_train_pred)\n",
        "    f1 = f1_score(y_train, y_train_pred, average='weighted')\n",
        "    pr = precision_score(y_train, y_train_pred, average='weighted')\n",
        "    rs = recall_score(y_train, y_train_pred, average='weighted')\n",
        "    ras = roc_auc_score(y_train, y_train_pred, average='weighted')\n",
        "\n",
        "    # Test Set Performance\n",
        "    acc_score1 = accuracy_score(y_test, y_test_pred)\n",
        "    f11 = f1_score(y_test, y_test_pred, average='weighted')\n",
        "    pr1 = precision_score(y_test, y_test_pred, average='weighted')\n",
        "    rs1 = recall_score(y_test, y_test_pred, average='weighted')\n",
        "    ras1 = roc_auc_score(y_test, y_test_pred, average='weighted')\n",
        "\n",
        "    print(model_name)\n",
        "\n",
        "    print('Training Set Performance')\n",
        "    print('accuracy_score {:.4f}'.format(acc_score))\n",
        "    print('f1_score {:.4f}'.format(f1))\n",
        "    print('precision_score {:.4f}'.format(pr))\n",
        "    print('recall_score {:.4f}'.format(rs))\n",
        "    print('roc_auc_score {:.4f}'.format(ras))\n",
        "\n",
        "    print('--------------------------')\n",
        "\n",
        "    print('Test Set Performance')\n",
        "    print('accuracy_score {:.4f}'.format(acc_score1))\n",
        "    print('f1_score {:.4f}'.format(f11))\n",
        "    print('precision_score {:.4f}'.format(pr1))\n",
        "    print('recall_score {:.4f}'.format(rs1))\n",
        "    print('roc_auc_score {:.4f}'.format(ras1))\n",
        "\n",
        "    print('=' * 35)\n",
        "    print('\\n')\n",
        "\n",
        "\n",
        "import pickle\n",
        "\n",
        "for model_name, model in models.items():\n",
        "    # Save the trained model\n",
        "    filename = f'{model_name.lower().replace(\" \", \"_\")}_model.pkl'\n",
        "    with open(filename, 'wb') as f:\n",
        "        pickle.dump(model, f)\n",
        "    print(f\"Model saved to: {filename}\")"
      ],
      "metadata": {
        "colab": {
          "base_uri": "https://localhost:8080/"
        },
        "id": "K6lGYq2ijLfO",
        "outputId": "f78678d1-a357-457c-dffd-aad70d74949f"
      },
      "execution_count": 19,
      "outputs": [
        {
          "output_type": "stream",
          "name": "stdout",
          "text": [
            "SVM\n",
            "Training Set Performance\n",
            "accuracy_score 0.9828\n",
            "f1_score 0.9827\n",
            "precision_score 0.9828\n",
            "recall_score 0.9828\n",
            "roc_auc_score 0.9827\n",
            "--------------------------\n",
            "Test Set Performance\n",
            "accuracy_score 0.8812\n",
            "f1_score 0.8811\n",
            "precision_score 0.8820\n",
            "recall_score 0.8812\n",
            "roc_auc_score 0.8812\n",
            "===================================\n",
            "\n",
            "\n",
            "Logistic Regression\n",
            "Training Set Performance\n",
            "accuracy_score 0.9126\n",
            "f1_score 0.9126\n",
            "precision_score 0.9128\n",
            "recall_score 0.9126\n",
            "roc_auc_score 0.9126\n",
            "--------------------------\n",
            "Test Set Performance\n",
            "accuracy_score 0.8838\n",
            "f1_score 0.8838\n",
            "precision_score 0.8844\n",
            "recall_score 0.8838\n",
            "roc_auc_score 0.8838\n",
            "===================================\n",
            "\n",
            "\n",
            "Model saved to: svm_model.pkl\n",
            "Model saved to: logistic_regression_model.pkl\n"
          ]
        }
      ]
    },
    {
      "cell_type": "code",
      "source": [
        "from sklearn.linear_model import LogisticRegression\n",
        "from sklearn.model_selection import GridSearchCV\n",
        "from sklearn.metrics import accuracy_score\n",
        "import pickle\n",
        "\n",
        "# Extended parameter grid\n",
        "param_grid = {\n",
        "    'C': [0.001, 0.01, 0.1, 1, 10, 100],\n",
        "    'penalty': ['l1', 'l2'],\n",
        "    'solver': ['liblinear']\n",
        "}\n",
        "\n",
        "# Grid Search\n",
        "grid_search = GridSearchCV(\n",
        "    estimator=LogisticRegression(max_iter=1000),\n",
        "    param_grid=param_grid,\n",
        "    scoring='accuracy',\n",
        "    cv=5,\n",
        "    n_jobs=-1,\n",
        "    verbose=1\n",
        ")\n",
        "\n",
        "# Fit\n",
        "print(\"🔍 Tuning Logistic Regression...\")\n",
        "grid_search.fit(X_train_tfidf, y_train)\n",
        "\n",
        "# Best model\n",
        "best_model = grid_search.best_estimator_\n",
        "print(\"✅ Best Params:\", grid_search.best_params_)\n",
        "\n",
        "# Evaluate\n",
        "y_pred = best_model.predict(X_test_tfidf)\n",
        "accuracy = accuracy_score(y_test, y_pred)\n",
        "print(\"🎯 Test Accuracy after tuning:\", accuracy)\n",
        "\n",
        "# Save\n",
        "with open(\"best_lr_model.pkl\", \"wb\") as f:\n",
        "    pickle.dump(best_model, f)\n"
      ],
      "metadata": {
        "colab": {
          "base_uri": "https://localhost:8080/"
        },
        "id": "wfXPVNOOTeLX",
        "outputId": "d219295e-c1c5-418b-fed0-2311df6fbd0a"
      },
      "execution_count": 20,
      "outputs": [
        {
          "output_type": "stream",
          "name": "stdout",
          "text": [
            "🔍 Tuning Logistic Regression...\n",
            "Fitting 5 folds for each of 12 candidates, totalling 60 fits\n",
            "✅ Best Params: {'C': 1, 'penalty': 'l2', 'solver': 'liblinear'}\n",
            "🎯 Test Accuracy after tuning: 0.8832\n"
          ]
        }
      ]
    },
    {
      "cell_type": "code",
      "execution_count": null,
      "metadata": {
        "id": "ydckYqolPmf1"
      },
      "outputs": [],
      "source": [
        "# import streamlit as st\n",
        "# import pickle\n",
        "# import re\n",
        "# from bs4 import BeautifulSoup\n",
        "# from nltk.corpus import stopwords\n",
        "# import nltk\n",
        "\n",
        "# # Download stopwords\n",
        "# nltk.download('stopwords')\n",
        "\n",
        "# # Load resources\n",
        "# with open(\"logistic_regression_model.pkl\", \"rb\") as model_file:\n",
        "#     model = pickle.load(model_file)\n",
        "\n",
        "# with open(\"tfidf_vectorizer.pkl\", \"rb\") as vec_file:\n",
        "#     vectorizer = pickle.load(vec_file)\n",
        "\n",
        "# with open(\"label_encoder.pkl\", \"rb\") as le_file:\n",
        "#     label_encoder = pickle.load(le_file)\n",
        "\n",
        "# # Preprocessing function\n",
        "# def preprocess(text):\n",
        "#     text = re.sub(r'[^a-zA-Z0-9]+', ' ', text)\n",
        "#     text = re.sub(r'(http|https|ftp)://[a-zA-Z0-9./]+', '', text)\n",
        "#     text = BeautifulSoup(text, 'lxml').get_text()\n",
        "#     text = \" \".join(text.split())\n",
        "#     text = \" \".join([word for word in text.lower().split() if word not in stopwords.words('english')])\n",
        "#     return text\n",
        "\n",
        "# # App UI config\n",
        "# st.set_page_config(page_title=\"🎬 Movie Sentiment Analyzer\", layout=\"centered\")\n",
        "\n",
        "# st.markdown(\n",
        "#     \"\"\"\n",
        "#     <style>\n",
        "#     .main {\n",
        "#         background-color: #f9f9f9;\n",
        "#         font-family: 'Segoe UI', sans-serif;\n",
        "#     }\n",
        "#     .title {\n",
        "#         color: #1f77b4;\n",
        "#         text-align: center;\n",
        "#     }\n",
        "#     .footer {\n",
        "#         text-align: center;\n",
        "#         font-size: 12px;\n",
        "#         color: #888;\n",
        "#         margin-top: 50px;\n",
        "#     }\n",
        "#     </style>\n",
        "#     \"\"\",\n",
        "#     unsafe_allow_html=True\n",
        "# )\n",
        "\n",
        "# # Title\n",
        "# st.markdown(\"<h1 class='title'>🎥 Movie Review Sentiment Analyzer</h1>\", unsafe_allow_html=True)\n",
        "# st.write(\"Write a review for your favorite movie and check if the sentiment is **Positive** or **Negative**!\")\n",
        "\n",
        "# # Movie selection\n",
        "# movies = [\n",
        "#     \"Inception\", \"Titanic\", \"Interstellar\", \"The Godfather\", \"The Dark Knight\",\n",
        "#     \"Forrest Gump\", \"The Shawshank Redemption\", \"Fight Club\", \"Avengers: Endgame\", \"Joker\"\n",
        "# ]\n",
        "# selected_movie = st.selectbox(\"🎬 Select a Movie\", movies)\n",
        "\n",
        "# # Review input\n",
        "# user_review = st.text_area(f\"📝 Write your review for *{selected_movie}*\", height=200)\n",
        "\n",
        "# # Predict button\n",
        "# if st.button(\"🔍 Analyze Sentiment\"):\n",
        "#     if user_review.strip() == \"\":\n",
        "#         st.warning(\"🚨 Please enter a review before analyzing.\")\n",
        "#     else:\n",
        "#         cleaned_review = preprocess(user_review)\n",
        "#         vectorized_review = vectorizer.transform([cleaned_review])\n",
        "#         prediction_encoded = model.predict(vectorized_review)[0]\n",
        "#         prediction_label = label_encoder.inverse_transform([prediction_encoded])[0] if hasattr(label_encoder, \"inverse_transform\") else prediction_encoded\n",
        "\n",
        "#         if prediction_label == 'pos':\n",
        "#             st.success(\"✅ Positive Sentiment! You seem to have liked the movie. 🎉\")\n",
        "#         else:\n",
        "#             st.error(\"❌ Negative Sentiment! You didn’t enjoy the movie much. 😢\")\n",
        "\n",
        "# # Footer\n",
        "# st.markdown(\"<div class='footer'>Made with ❤️ using Streamlit</div>\", unsafe_allow_html=True)\n"
      ]
    }
  ],
  "metadata": {
    "kernelspec": {
      "display_name": "myenv",
      "language": "python",
      "name": "python3"
    },
    "language_info": {
      "codemirror_mode": {
        "name": "ipython",
        "version": 3
      },
      "file_extension": ".py",
      "mimetype": "text/x-python",
      "name": "python",
      "nbconvert_exporter": "python",
      "pygments_lexer": "ipython3",
      "version": "3.12.5"
    },
    "colab": {
      "provenance": []
    }
  },
  "nbformat": 4,
  "nbformat_minor": 0
}